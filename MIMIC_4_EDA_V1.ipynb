{
  "nbformat": 4,
  "nbformat_minor": 0,
  "metadata": {
    "colab": {
      "name": "MIMIC 4 EDA - V1.ipynb",
      "provenance": [],
      "collapsed_sections": [],
      "authorship_tag": "ABX9TyPkB7vMDS+aJZL530qoW6oj",
      "include_colab_link": true
    },
    "kernelspec": {
      "name": "python3",
      "display_name": "Python 3"
    }
  },
  "cells": [
    {
      "cell_type": "markdown",
      "metadata": {
        "id": "view-in-github",
        "colab_type": "text"
      },
      "source": [
        "<a href=\"https://colab.research.google.com/github/RekhaChandrasekaran/MLPractice/blob/master/MIMIC_4_EDA_V1.ipynb\" target=\"_parent\"><img src=\"https://colab.research.google.com/assets/colab-badge.svg\" alt=\"Open In Colab\"/></a>"
      ]
    },
    {
      "cell_type": "markdown",
      "metadata": {
        "id": "u0PGMlfXTQx9"
      },
      "source": [
        "# EDA on MIMIC-IV - Patient admissions and Diagnoses\n",
        "Finding Readmissions and presence of newly diagnosed diseases and conditions"
      ]
    },
    {
      "cell_type": "code",
      "metadata": {
        "id": "O9IGIjYmTKe6"
      },
      "source": [
        "# parent data folder\n",
        "parent_dir = '/content/drive/My Drive/MEANS_GIC_Hackathon/MIMIC_4_Data'\n",
        "mimic_path =  '/content/drive/My Drive/MEANS_GIC_Hackathon/MIMIC_4_Data'"
      ],
      "execution_count": 1,
      "outputs": []
    },
    {
      "cell_type": "code",
      "metadata": {
        "colab": {
          "base_uri": "https://localhost:8080/",
          "height": 0
        },
        "id": "DrsdVBiiUxwd",
        "outputId": "c561bbaf-0290-44b9-b8c9-bdbb1e6dd21b"
      },
      "source": [
        "from google.colab import drive\n",
        "drive.mount('/content/drive')"
      ],
      "execution_count": 2,
      "outputs": [
        {
          "output_type": "stream",
          "text": [
            "Mounted at /content/drive\n"
          ],
          "name": "stdout"
        }
      ]
    },
    {
      "cell_type": "code",
      "metadata": {
        "id": "G2r47085U1Pr"
      },
      "source": [
        "# imports\n",
        "\n",
        "import sys\n",
        "sys.path.insert(1, parent_dir)\n",
        "\n",
        "import numpy as np\n",
        "import pandas as pd\n",
        "\n",
        "import matplotlib.pyplot as plt\n",
        "\n",
        "import pickle\n",
        "import collections\n",
        "\n",
        "import re\n",
        "import os\n",
        "import random\n",
        "import warnings\n",
        "warnings.filterwarnings(\"ignore\")"
      ],
      "execution_count": 3,
      "outputs": []
    },
    {
      "cell_type": "markdown",
      "metadata": {
        "id": "eJ9wdbftVoBK"
      },
      "source": [
        "# How many unique Patients?"
      ]
    },
    {
      "cell_type": "code",
      "metadata": {
        "id": "lUhpEL4JVLVa"
      },
      "source": [
        "patients_df = pd.read_csv(parent_dir + '/patients.csv')"
      ],
      "execution_count": 4,
      "outputs": []
    },
    {
      "cell_type": "code",
      "metadata": {
        "colab": {
          "base_uri": "https://localhost:8080/",
          "height": 202
        },
        "id": "SmBpGKmLV8qH",
        "outputId": "4a22de50-5bc6-47d9-d6cb-757ab5dddfd3"
      },
      "source": [
        "patients_df.head()"
      ],
      "execution_count": 5,
      "outputs": [
        {
          "output_type": "execute_result",
          "data": {
            "text/html": [
              "<div>\n",
              "<style scoped>\n",
              "    .dataframe tbody tr th:only-of-type {\n",
              "        vertical-align: middle;\n",
              "    }\n",
              "\n",
              "    .dataframe tbody tr th {\n",
              "        vertical-align: top;\n",
              "    }\n",
              "\n",
              "    .dataframe thead th {\n",
              "        text-align: right;\n",
              "    }\n",
              "</style>\n",
              "<table border=\"1\" class=\"dataframe\">\n",
              "  <thead>\n",
              "    <tr style=\"text-align: right;\">\n",
              "      <th></th>\n",
              "      <th>subject_id</th>\n",
              "      <th>gender</th>\n",
              "      <th>anchor_age</th>\n",
              "      <th>anchor_year</th>\n",
              "      <th>anchor_year_group</th>\n",
              "      <th>dod</th>\n",
              "    </tr>\n",
              "  </thead>\n",
              "  <tbody>\n",
              "    <tr>\n",
              "      <th>0</th>\n",
              "      <td>10002723</td>\n",
              "      <td>F</td>\n",
              "      <td>0</td>\n",
              "      <td>2128</td>\n",
              "      <td>2017 - 2019</td>\n",
              "      <td>NaN</td>\n",
              "    </tr>\n",
              "    <tr>\n",
              "      <th>1</th>\n",
              "      <td>10003939</td>\n",
              "      <td>M</td>\n",
              "      <td>0</td>\n",
              "      <td>2184</td>\n",
              "      <td>2008 - 2010</td>\n",
              "      <td>NaN</td>\n",
              "    </tr>\n",
              "    <tr>\n",
              "      <th>2</th>\n",
              "      <td>10004222</td>\n",
              "      <td>M</td>\n",
              "      <td>0</td>\n",
              "      <td>2161</td>\n",
              "      <td>2014 - 2016</td>\n",
              "      <td>NaN</td>\n",
              "    </tr>\n",
              "    <tr>\n",
              "      <th>3</th>\n",
              "      <td>10005325</td>\n",
              "      <td>F</td>\n",
              "      <td>0</td>\n",
              "      <td>2154</td>\n",
              "      <td>2011 - 2013</td>\n",
              "      <td>NaN</td>\n",
              "    </tr>\n",
              "    <tr>\n",
              "      <th>4</th>\n",
              "      <td>10007338</td>\n",
              "      <td>F</td>\n",
              "      <td>0</td>\n",
              "      <td>2153</td>\n",
              "      <td>2017 - 2019</td>\n",
              "      <td>NaN</td>\n",
              "    </tr>\n",
              "  </tbody>\n",
              "</table>\n",
              "</div>"
            ],
            "text/plain": [
              "   subject_id gender  anchor_age  anchor_year anchor_year_group  dod\n",
              "0    10002723      F           0         2128       2017 - 2019  NaN\n",
              "1    10003939      M           0         2184       2008 - 2010  NaN\n",
              "2    10004222      M           0         2161       2014 - 2016  NaN\n",
              "3    10005325      F           0         2154       2011 - 2013  NaN\n",
              "4    10007338      F           0         2153       2017 - 2019  NaN"
            ]
          },
          "metadata": {
            "tags": []
          },
          "execution_count": 5
        }
      ]
    },
    {
      "cell_type": "markdown",
      "metadata": {
        "id": "NkRxNbX-Wvda"
      },
      "source": [
        "[ ] Understand anchor_year and how that relates to admissions"
      ]
    },
    {
      "cell_type": "code",
      "metadata": {
        "colab": {
          "base_uri": "https://localhost:8080/",
          "height": 0
        },
        "id": "OXuzPrEvV-pJ",
        "outputId": "8e20ec03-6613-4e94-e9c7-ef71df5aa878"
      },
      "source": [
        "patients_df.subject_id.nunique()"
      ],
      "execution_count": 6,
      "outputs": [
        {
          "output_type": "execute_result",
          "data": {
            "text/plain": [
              "383220"
            ]
          },
          "metadata": {
            "tags": []
          },
          "execution_count": 6
        }
      ]
    },
    {
      "cell_type": "markdown",
      "metadata": {
        "id": "YyWsCpbuXJgu"
      },
      "source": [
        "# Number of Unique patients - 383220"
      ]
    },
    {
      "cell_type": "markdown",
      "metadata": {
        "id": "4NT9qWd2XVVL"
      },
      "source": [
        "# How many unique admissions?"
      ]
    },
    {
      "cell_type": "code",
      "metadata": {
        "id": "WQ26_3A6XYUP"
      },
      "source": [
        "admissions_df = pd.read_csv(parent_dir + '/admissions.csv')"
      ],
      "execution_count": 8,
      "outputs": []
    },
    {
      "cell_type": "code",
      "metadata": {
        "colab": {
          "base_uri": "https://localhost:8080/",
          "height": 395
        },
        "id": "qDX_gJ8BXh_d",
        "outputId": "44d05d96-d068-4a82-b16b-15026cf8a034"
      },
      "source": [
        "admissions_df.head()"
      ],
      "execution_count": 9,
      "outputs": [
        {
          "output_type": "execute_result",
          "data": {
            "text/html": [
              "<div>\n",
              "<style scoped>\n",
              "    .dataframe tbody tr th:only-of-type {\n",
              "        vertical-align: middle;\n",
              "    }\n",
              "\n",
              "    .dataframe tbody tr th {\n",
              "        vertical-align: top;\n",
              "    }\n",
              "\n",
              "    .dataframe thead th {\n",
              "        text-align: right;\n",
              "    }\n",
              "</style>\n",
              "<table border=\"1\" class=\"dataframe\">\n",
              "  <thead>\n",
              "    <tr style=\"text-align: right;\">\n",
              "      <th></th>\n",
              "      <th>subject_id</th>\n",
              "      <th>hadm_id</th>\n",
              "      <th>admittime</th>\n",
              "      <th>dischtime</th>\n",
              "      <th>deathtime</th>\n",
              "      <th>admission_type</th>\n",
              "      <th>admission_location</th>\n",
              "      <th>discharge_location</th>\n",
              "      <th>insurance</th>\n",
              "      <th>language</th>\n",
              "      <th>marital_status</th>\n",
              "      <th>ethnicity</th>\n",
              "      <th>edregtime</th>\n",
              "      <th>edouttime</th>\n",
              "      <th>hospital_expire_flag</th>\n",
              "    </tr>\n",
              "  </thead>\n",
              "  <tbody>\n",
              "    <tr>\n",
              "      <th>0</th>\n",
              "      <td>12427812</td>\n",
              "      <td>21593330</td>\n",
              "      <td>2184-01-06 11:51:00</td>\n",
              "      <td>2184-01-10 11:45:00</td>\n",
              "      <td>NaN</td>\n",
              "      <td>URGENT</td>\n",
              "      <td>PHYSICIAN REFERRAL</td>\n",
              "      <td>HOME</td>\n",
              "      <td>Other</td>\n",
              "      <td>ENGLISH</td>\n",
              "      <td>NaN</td>\n",
              "      <td>UNKNOWN</td>\n",
              "      <td>NaN</td>\n",
              "      <td>NaN</td>\n",
              "      <td>0</td>\n",
              "    </tr>\n",
              "    <tr>\n",
              "      <th>1</th>\n",
              "      <td>14029832</td>\n",
              "      <td>22059088</td>\n",
              "      <td>2120-01-18 01:28:00</td>\n",
              "      <td>2120-01-20 16:13:00</td>\n",
              "      <td>NaN</td>\n",
              "      <td>URGENT</td>\n",
              "      <td>TRANSFER FROM HOSPITAL</td>\n",
              "      <td>HOME</td>\n",
              "      <td>Other</td>\n",
              "      <td>ENGLISH</td>\n",
              "      <td>NaN</td>\n",
              "      <td>OTHER</td>\n",
              "      <td>NaN</td>\n",
              "      <td>NaN</td>\n",
              "      <td>0</td>\n",
              "    </tr>\n",
              "    <tr>\n",
              "      <th>2</th>\n",
              "      <td>14495017</td>\n",
              "      <td>22484010</td>\n",
              "      <td>2175-01-28 15:41:00</td>\n",
              "      <td>2175-01-29 16:00:00</td>\n",
              "      <td>NaN</td>\n",
              "      <td>DIRECT EMER.</td>\n",
              "      <td>PHYSICIAN REFERRAL</td>\n",
              "      <td>HOME</td>\n",
              "      <td>Other</td>\n",
              "      <td>?</td>\n",
              "      <td>NaN</td>\n",
              "      <td>WHITE</td>\n",
              "      <td>NaN</td>\n",
              "      <td>NaN</td>\n",
              "      <td>0</td>\n",
              "    </tr>\n",
              "    <tr>\n",
              "      <th>3</th>\n",
              "      <td>13676048</td>\n",
              "      <td>23865469</td>\n",
              "      <td>2193-01-19 05:27:00</td>\n",
              "      <td>2193-01-24 18:59:00</td>\n",
              "      <td>NaN</td>\n",
              "      <td>URGENT</td>\n",
              "      <td>PHYSICIAN REFERRAL</td>\n",
              "      <td>HOME</td>\n",
              "      <td>Other</td>\n",
              "      <td>?</td>\n",
              "      <td>MARRIED</td>\n",
              "      <td>WHITE</td>\n",
              "      <td>NaN</td>\n",
              "      <td>NaN</td>\n",
              "      <td>0</td>\n",
              "    </tr>\n",
              "    <tr>\n",
              "      <th>4</th>\n",
              "      <td>13831972</td>\n",
              "      <td>27763544</td>\n",
              "      <td>2131-01-27 04:03:00</td>\n",
              "      <td>2131-01-27 05:39:00</td>\n",
              "      <td>NaN</td>\n",
              "      <td>EU OBSERVATION</td>\n",
              "      <td>EMERGENCY ROOM</td>\n",
              "      <td>NaN</td>\n",
              "      <td>Medicaid</td>\n",
              "      <td>ENGLISH</td>\n",
              "      <td>SINGLE</td>\n",
              "      <td>WHITE</td>\n",
              "      <td>2131-01-26 22:19:00</td>\n",
              "      <td>2131-01-27 05:39:00</td>\n",
              "      <td>0</td>\n",
              "    </tr>\n",
              "  </tbody>\n",
              "</table>\n",
              "</div>"
            ],
            "text/plain": [
              "   subject_id   hadm_id  ...            edouttime hospital_expire_flag\n",
              "0    12427812  21593330  ...                  NaN                    0\n",
              "1    14029832  22059088  ...                  NaN                    0\n",
              "2    14495017  22484010  ...                  NaN                    0\n",
              "3    13676048  23865469  ...                  NaN                    0\n",
              "4    13831972  27763544  ...  2131-01-27 05:39:00                    0\n",
              "\n",
              "[5 rows x 15 columns]"
            ]
          },
          "metadata": {
            "tags": []
          },
          "execution_count": 9
        }
      ]
    },
    {
      "cell_type": "code",
      "metadata": {
        "colab": {
          "base_uri": "https://localhost:8080/",
          "height": 0
        },
        "id": "Fsklft1YXnDq",
        "outputId": "ce1db746-59d4-4dbd-e9db-2d3ce81c166a"
      },
      "source": [
        "admissions_df.subject_id.nunique()"
      ],
      "execution_count": 10,
      "outputs": [
        {
          "output_type": "execute_result",
          "data": {
            "text/plain": [
              "257366"
            ]
          },
          "metadata": {
            "tags": []
          },
          "execution_count": 10
        }
      ]
    },
    {
      "cell_type": "code",
      "metadata": {
        "colab": {
          "base_uri": "https://localhost:8080/",
          "height": 0
        },
        "id": "cA0fEL6gX68F",
        "outputId": "44241902-8f8a-4c0c-f12d-7af56a1c9bf7"
      },
      "source": [
        "admissions_df.hadm_id.nunique()"
      ],
      "execution_count": 11,
      "outputs": [
        {
          "output_type": "execute_result",
          "data": {
            "text/plain": [
              "524520"
            ]
          },
          "metadata": {
            "tags": []
          },
          "execution_count": 11
        }
      ]
    },
    {
      "cell_type": "markdown",
      "metadata": {
        "id": "7rh3bvLWYHlt"
      },
      "source": [
        "# (Revised) Number of Patients - 257,366 with 524,520 admissions"
      ]
    },
    {
      "cell_type": "markdown",
      "metadata": {
        "id": "L_Xz5P_9YaQH"
      },
      "source": [
        "# How many patients were re-admitted?"
      ]
    },
    {
      "cell_type": "code",
      "metadata": {
        "id": "DDfzMrUBYGCM"
      },
      "source": [
        "num_admissions = admissions_df.groupby(['subject_id'])['hadm_id'].count()"
      ],
      "execution_count": 18,
      "outputs": []
    },
    {
      "cell_type": "code",
      "metadata": {
        "colab": {
          "base_uri": "https://localhost:8080/",
          "height": 0
        },
        "id": "52c8qxAFXPez",
        "outputId": "346c3c4f-9f46-4d56-b0d4-6b0a4a1f4ec4"
      },
      "source": [
        "num_admissions.sort_values(ascending=False)"
      ],
      "execution_count": 22,
      "outputs": [
        {
          "output_type": "execute_result",
          "data": {
            "text/plain": [
              "subject_id\n",
              "15496609    238\n",
              "15464144    185\n",
              "10714009    163\n",
              "16662316    142\n",
              "15229574    130\n",
              "           ... \n",
              "16024188      1\n",
              "16024151      1\n",
              "16024117      1\n",
              "16024088      1\n",
              "10000019      1\n",
              "Name: hadm_id, Length: 257366, dtype: int64"
            ]
          },
          "metadata": {
            "tags": []
          },
          "execution_count": 22
        }
      ]
    },
    {
      "cell_type": "markdown",
      "metadata": {
        "id": "wXu8xx3lZnft"
      },
      "source": [
        "**How did a patient get admitted 238 times? Are there duplicate records?**"
      ]
    },
    {
      "cell_type": "code",
      "metadata": {
        "colab": {
          "base_uri": "https://localhost:8080/",
          "height": 782
        },
        "id": "cJLz84zzXEbp",
        "outputId": "34c8f917-a576-4189-f8cf-9dbb671eec8d"
      },
      "source": [
        "admissions_df[admissions_df.subject_id==15496609]"
      ],
      "execution_count": 24,
      "outputs": [
        {
          "output_type": "execute_result",
          "data": {
            "text/html": [
              "<div>\n",
              "<style scoped>\n",
              "    .dataframe tbody tr th:only-of-type {\n",
              "        vertical-align: middle;\n",
              "    }\n",
              "\n",
              "    .dataframe tbody tr th {\n",
              "        vertical-align: top;\n",
              "    }\n",
              "\n",
              "    .dataframe thead th {\n",
              "        text-align: right;\n",
              "    }\n",
              "</style>\n",
              "<table border=\"1\" class=\"dataframe\">\n",
              "  <thead>\n",
              "    <tr style=\"text-align: right;\">\n",
              "      <th></th>\n",
              "      <th>subject_id</th>\n",
              "      <th>hadm_id</th>\n",
              "      <th>admittime</th>\n",
              "      <th>dischtime</th>\n",
              "      <th>deathtime</th>\n",
              "      <th>admission_type</th>\n",
              "      <th>admission_location</th>\n",
              "      <th>discharge_location</th>\n",
              "      <th>insurance</th>\n",
              "      <th>language</th>\n",
              "      <th>marital_status</th>\n",
              "      <th>ethnicity</th>\n",
              "      <th>edregtime</th>\n",
              "      <th>edouttime</th>\n",
              "      <th>hospital_expire_flag</th>\n",
              "    </tr>\n",
              "  </thead>\n",
              "  <tbody>\n",
              "    <tr>\n",
              "      <th>204444</th>\n",
              "      <td>15496609</td>\n",
              "      <td>22456035</td>\n",
              "      <td>2163-06-26 23:47:00</td>\n",
              "      <td>2163-06-27 09:35:00</td>\n",
              "      <td>NaN</td>\n",
              "      <td>EU OBSERVATION</td>\n",
              "      <td>EMERGENCY ROOM</td>\n",
              "      <td>NaN</td>\n",
              "      <td>Other</td>\n",
              "      <td>ENGLISH</td>\n",
              "      <td>SINGLE</td>\n",
              "      <td>BLACK/AFRICAN AMERICAN</td>\n",
              "      <td>2163-06-26 16:25:00</td>\n",
              "      <td>2163-06-27 09:35:00</td>\n",
              "      <td>0</td>\n",
              "    </tr>\n",
              "    <tr>\n",
              "      <th>204449</th>\n",
              "      <td>15496609</td>\n",
              "      <td>25283436</td>\n",
              "      <td>2163-07-12 18:01:00</td>\n",
              "      <td>2163-07-14 11:54:00</td>\n",
              "      <td>NaN</td>\n",
              "      <td>EU OBSERVATION</td>\n",
              "      <td>PHYSICIAN REFERRAL</td>\n",
              "      <td>NaN</td>\n",
              "      <td>Medicaid</td>\n",
              "      <td>ENGLISH</td>\n",
              "      <td>SINGLE</td>\n",
              "      <td>BLACK/AFRICAN AMERICAN</td>\n",
              "      <td>2163-07-12 15:22:00</td>\n",
              "      <td>2163-07-14 11:54:00</td>\n",
              "      <td>0</td>\n",
              "    </tr>\n",
              "    <tr>\n",
              "      <th>204471</th>\n",
              "      <td>15496609</td>\n",
              "      <td>29014836</td>\n",
              "      <td>2163-08-28 14:26:00</td>\n",
              "      <td>2163-08-28 20:11:00</td>\n",
              "      <td>NaN</td>\n",
              "      <td>EU OBSERVATION</td>\n",
              "      <td>EMERGENCY ROOM</td>\n",
              "      <td>NaN</td>\n",
              "      <td>Medicaid</td>\n",
              "      <td>ENGLISH</td>\n",
              "      <td>SINGLE</td>\n",
              "      <td>BLACK/AFRICAN AMERICAN</td>\n",
              "      <td>2163-08-28 10:51:00</td>\n",
              "      <td>2163-08-28 20:11:00</td>\n",
              "      <td>0</td>\n",
              "    </tr>\n",
              "    <tr>\n",
              "      <th>204498</th>\n",
              "      <td>15496609</td>\n",
              "      <td>23901857</td>\n",
              "      <td>2159-07-07 19:22:00</td>\n",
              "      <td>2159-07-08 09:50:00</td>\n",
              "      <td>NaN</td>\n",
              "      <td>EU OBSERVATION</td>\n",
              "      <td>EMERGENCY ROOM</td>\n",
              "      <td>NaN</td>\n",
              "      <td>Medicaid</td>\n",
              "      <td>ENGLISH</td>\n",
              "      <td>SINGLE</td>\n",
              "      <td>BLACK/AFRICAN AMERICAN</td>\n",
              "      <td>2159-07-07 16:48:00</td>\n",
              "      <td>2159-07-08 09:50:00</td>\n",
              "      <td>0</td>\n",
              "    </tr>\n",
              "    <tr>\n",
              "      <th>204554</th>\n",
              "      <td>15496609</td>\n",
              "      <td>25239597</td>\n",
              "      <td>2157-04-10 21:18:00</td>\n",
              "      <td>2157-04-11 05:05:00</td>\n",
              "      <td>NaN</td>\n",
              "      <td>EU OBSERVATION</td>\n",
              "      <td>EMERGENCY ROOM</td>\n",
              "      <td>NaN</td>\n",
              "      <td>Medicaid</td>\n",
              "      <td>ENGLISH</td>\n",
              "      <td>SINGLE</td>\n",
              "      <td>BLACK/AFRICAN AMERICAN</td>\n",
              "      <td>2157-04-10 19:08:00</td>\n",
              "      <td>2157-04-11 05:05:00</td>\n",
              "      <td>0</td>\n",
              "    </tr>\n",
              "    <tr>\n",
              "      <th>...</th>\n",
              "      <td>...</td>\n",
              "      <td>...</td>\n",
              "      <td>...</td>\n",
              "      <td>...</td>\n",
              "      <td>...</td>\n",
              "      <td>...</td>\n",
              "      <td>...</td>\n",
              "      <td>...</td>\n",
              "      <td>...</td>\n",
              "      <td>...</td>\n",
              "      <td>...</td>\n",
              "      <td>...</td>\n",
              "      <td>...</td>\n",
              "      <td>...</td>\n",
              "      <td>...</td>\n",
              "    </tr>\n",
              "    <tr>\n",
              "      <th>234352</th>\n",
              "      <td>15496609</td>\n",
              "      <td>27901407</td>\n",
              "      <td>2163-06-08 23:32:00</td>\n",
              "      <td>2163-06-11 16:40:00</td>\n",
              "      <td>NaN</td>\n",
              "      <td>OBSERVATION ADMIT</td>\n",
              "      <td>EMERGENCY ROOM</td>\n",
              "      <td>HOME</td>\n",
              "      <td>Other</td>\n",
              "      <td>ENGLISH</td>\n",
              "      <td>SINGLE</td>\n",
              "      <td>BLACK/AFRICAN AMERICAN</td>\n",
              "      <td>2163-06-08 20:09:00</td>\n",
              "      <td>2163-06-09 20:29:00</td>\n",
              "      <td>0</td>\n",
              "    </tr>\n",
              "    <tr>\n",
              "      <th>240938</th>\n",
              "      <td>15496609</td>\n",
              "      <td>28965033</td>\n",
              "      <td>2156-09-18 18:40:00</td>\n",
              "      <td>2156-09-20 13:00:00</td>\n",
              "      <td>NaN</td>\n",
              "      <td>EW EMER.</td>\n",
              "      <td>EMERGENCY ROOM</td>\n",
              "      <td>HOME</td>\n",
              "      <td>Medicaid</td>\n",
              "      <td>ENGLISH</td>\n",
              "      <td>SINGLE</td>\n",
              "      <td>BLACK/AFRICAN AMERICAN</td>\n",
              "      <td>2156-09-18 16:11:00</td>\n",
              "      <td>2156-09-18 20:22:00</td>\n",
              "      <td>0</td>\n",
              "    </tr>\n",
              "    <tr>\n",
              "      <th>244212</th>\n",
              "      <td>15496609</td>\n",
              "      <td>23059133</td>\n",
              "      <td>2155-08-08 20:35:00</td>\n",
              "      <td>2155-08-10 17:50:00</td>\n",
              "      <td>NaN</td>\n",
              "      <td>EW EMER.</td>\n",
              "      <td>EMERGENCY ROOM</td>\n",
              "      <td>HOME</td>\n",
              "      <td>Medicaid</td>\n",
              "      <td>ENGLISH</td>\n",
              "      <td>SINGLE</td>\n",
              "      <td>BLACK/AFRICAN AMERICAN</td>\n",
              "      <td>2155-08-08 16:23:00</td>\n",
              "      <td>2155-08-08 22:31:00</td>\n",
              "      <td>0</td>\n",
              "    </tr>\n",
              "    <tr>\n",
              "      <th>252567</th>\n",
              "      <td>15496609</td>\n",
              "      <td>26857156</td>\n",
              "      <td>2156-11-09 23:21:00</td>\n",
              "      <td>2156-11-15 12:39:00</td>\n",
              "      <td>NaN</td>\n",
              "      <td>EW EMER.</td>\n",
              "      <td>EMERGENCY ROOM</td>\n",
              "      <td>HOME</td>\n",
              "      <td>Medicaid</td>\n",
              "      <td>ENGLISH</td>\n",
              "      <td>SINGLE</td>\n",
              "      <td>BLACK/AFRICAN AMERICAN</td>\n",
              "      <td>2156-11-09 19:09:00</td>\n",
              "      <td>2156-11-10 00:27:00</td>\n",
              "      <td>0</td>\n",
              "    </tr>\n",
              "    <tr>\n",
              "      <th>260300</th>\n",
              "      <td>15496609</td>\n",
              "      <td>29855388</td>\n",
              "      <td>2156-11-23 17:28:00</td>\n",
              "      <td>2156-11-24 13:57:00</td>\n",
              "      <td>NaN</td>\n",
              "      <td>EW EMER.</td>\n",
              "      <td>EMERGENCY ROOM</td>\n",
              "      <td>AGAINST ADVICE</td>\n",
              "      <td>Medicaid</td>\n",
              "      <td>ENGLISH</td>\n",
              "      <td>SINGLE</td>\n",
              "      <td>BLACK/AFRICAN AMERICAN</td>\n",
              "      <td>2156-11-23 16:06:00</td>\n",
              "      <td>2156-11-24 01:02:00</td>\n",
              "      <td>0</td>\n",
              "    </tr>\n",
              "  </tbody>\n",
              "</table>\n",
              "<p>238 rows × 15 columns</p>\n",
              "</div>"
            ],
            "text/plain": [
              "        subject_id   hadm_id  ...            edouttime hospital_expire_flag\n",
              "204444    15496609  22456035  ...  2163-06-27 09:35:00                    0\n",
              "204449    15496609  25283436  ...  2163-07-14 11:54:00                    0\n",
              "204471    15496609  29014836  ...  2163-08-28 20:11:00                    0\n",
              "204498    15496609  23901857  ...  2159-07-08 09:50:00                    0\n",
              "204554    15496609  25239597  ...  2157-04-11 05:05:00                    0\n",
              "...            ...       ...  ...                  ...                  ...\n",
              "234352    15496609  27901407  ...  2163-06-09 20:29:00                    0\n",
              "240938    15496609  28965033  ...  2156-09-18 20:22:00                    0\n",
              "244212    15496609  23059133  ...  2155-08-08 22:31:00                    0\n",
              "252567    15496609  26857156  ...  2156-11-10 00:27:00                    0\n",
              "260300    15496609  29855388  ...  2156-11-24 01:02:00                    0\n",
              "\n",
              "[238 rows x 15 columns]"
            ]
          },
          "metadata": {
            "tags": []
          },
          "execution_count": 24
        }
      ]
    },
    {
      "cell_type": "markdown",
      "metadata": {
        "id": "x-AP7eGabRag"
      },
      "source": [
        "# Number of admissions"
      ]
    },
    {
      "cell_type": "code",
      "metadata": {
        "colab": {
          "base_uri": "https://localhost:8080/",
          "height": 0
        },
        "id": "4UO_O2FQbVAU",
        "outputId": "67a92256-44b7-46dc-fe02-595adfb7fd9c"
      },
      "source": [
        "num_admissions.min(), num_admissions.max(), num_admissions.mean()"
      ],
      "execution_count": 26,
      "outputs": [
        {
          "output_type": "execute_result",
          "data": {
            "text/plain": [
              "(1, 238, 2.0380314416045633)"
            ]
          },
          "metadata": {
            "tags": []
          },
          "execution_count": 26
        }
      ]
    },
    {
      "cell_type": "markdown",
      "metadata": {
        "id": "3YBjLybacR74"
      },
      "source": [
        "**To keep things simple, lets take patients who got admitted 2-5 times**"
      ]
    },
    {
      "cell_type": "code",
      "metadata": {
        "id": "nhac7jK1UEZ5"
      },
      "source": [
        "filtered_subjects = num_admissions[np.logical_and(num_admissions>=2, num_admissions<=5)]"
      ],
      "execution_count": 30,
      "outputs": []
    },
    {
      "cell_type": "code",
      "metadata": {
        "colab": {
          "base_uri": "https://localhost:8080/",
          "height": 0
        },
        "id": "2w7w7DS9cppa",
        "outputId": "22202920-020d-48fc-c0da-7e0c863e6e4f"
      },
      "source": [
        "filtered_subjects"
      ],
      "execution_count": 31,
      "outputs": [
        {
          "output_type": "execute_result",
          "data": {
            "text/plain": [
              "subject_id\n",
              "10000032    4\n",
              "10000084    2\n",
              "10000117    2\n",
              "10000730    2\n",
              "10000826    3\n",
              "           ..\n",
              "19999442    2\n",
              "19999464    2\n",
              "19999625    2\n",
              "19999828    2\n",
              "19999840    2\n",
              "Name: hadm_id, Length: 71175, dtype: int64"
            ]
          },
          "metadata": {
            "tags": []
          },
          "execution_count": 31
        }
      ]
    },
    {
      "cell_type": "code",
      "metadata": {
        "id": "GgKWkL0ec7cR"
      },
      "source": [
        "filtered_admissions = admissions_df[admissions_df['subject_id'].isin(filtered_subjects.index)]"
      ],
      "execution_count": 35,
      "outputs": []
    },
    {
      "cell_type": "code",
      "metadata": {
        "colab": {
          "base_uri": "https://localhost:8080/",
          "height": 0
        },
        "id": "GK54LaXAdFd8",
        "outputId": "f2786db2-1161-43f6-d83a-f12860249021"
      },
      "source": [
        "filtered_admissions.shape"
      ],
      "execution_count": 37,
      "outputs": [
        {
          "output_type": "execute_result",
          "data": {
            "text/plain": [
              "(194527, 15)"
            ]
          },
          "metadata": {
            "tags": []
          },
          "execution_count": 37
        }
      ]
    },
    {
      "cell_type": "markdown",
      "metadata": {
        "id": "dDzCEomYdfNq"
      },
      "source": [
        "**Diagnosed Codes for each admission**"
      ]
    },
    {
      "cell_type": "code",
      "metadata": {
        "id": "mfxGLNSLdOyL"
      },
      "source": [
        "diagnoses_df = pd.read_csv(parent_dir + '/diagnoses_icd.csv')"
      ],
      "execution_count": 38,
      "outputs": []
    },
    {
      "cell_type": "code",
      "metadata": {
        "colab": {
          "base_uri": "https://localhost:8080/",
          "height": 202
        },
        "id": "H8E_SnHAdO1F",
        "outputId": "1491f9c7-48f9-4f7a-f2f0-8915debf0f1c"
      },
      "source": [
        "diagnoses_df.head()"
      ],
      "execution_count": 39,
      "outputs": [
        {
          "output_type": "execute_result",
          "data": {
            "text/html": [
              "<div>\n",
              "<style scoped>\n",
              "    .dataframe tbody tr th:only-of-type {\n",
              "        vertical-align: middle;\n",
              "    }\n",
              "\n",
              "    .dataframe tbody tr th {\n",
              "        vertical-align: top;\n",
              "    }\n",
              "\n",
              "    .dataframe thead th {\n",
              "        text-align: right;\n",
              "    }\n",
              "</style>\n",
              "<table border=\"1\" class=\"dataframe\">\n",
              "  <thead>\n",
              "    <tr style=\"text-align: right;\">\n",
              "      <th></th>\n",
              "      <th>subject_id</th>\n",
              "      <th>hadm_id</th>\n",
              "      <th>seq_num</th>\n",
              "      <th>icd_code</th>\n",
              "      <th>icd_version</th>\n",
              "    </tr>\n",
              "  </thead>\n",
              "  <tbody>\n",
              "    <tr>\n",
              "      <th>0</th>\n",
              "      <td>11603789</td>\n",
              "      <td>25552978</td>\n",
              "      <td>3</td>\n",
              "      <td>65801</td>\n",
              "      <td>9</td>\n",
              "    </tr>\n",
              "    <tr>\n",
              "      <th>1</th>\n",
              "      <td>11603789</td>\n",
              "      <td>25552978</td>\n",
              "      <td>4</td>\n",
              "      <td>64881</td>\n",
              "      <td>9</td>\n",
              "    </tr>\n",
              "    <tr>\n",
              "      <th>2</th>\n",
              "      <td>11603789</td>\n",
              "      <td>25552978</td>\n",
              "      <td>5</td>\n",
              "      <td>V270</td>\n",
              "      <td>9</td>\n",
              "    </tr>\n",
              "    <tr>\n",
              "      <th>3</th>\n",
              "      <td>11603789</td>\n",
              "      <td>25552978</td>\n",
              "      <td>1</td>\n",
              "      <td>65221</td>\n",
              "      <td>9</td>\n",
              "    </tr>\n",
              "    <tr>\n",
              "      <th>4</th>\n",
              "      <td>11603789</td>\n",
              "      <td>25552978</td>\n",
              "      <td>2</td>\n",
              "      <td>64421</td>\n",
              "      <td>9</td>\n",
              "    </tr>\n",
              "  </tbody>\n",
              "</table>\n",
              "</div>"
            ],
            "text/plain": [
              "   subject_id   hadm_id  seq_num icd_code  icd_version\n",
              "0    11603789  25552978        3  65801              9\n",
              "1    11603789  25552978        4  64881              9\n",
              "2    11603789  25552978        5  V270               9\n",
              "3    11603789  25552978        1  65221              9\n",
              "4    11603789  25552978        2  64421              9"
            ]
          },
          "metadata": {
            "tags": []
          },
          "execution_count": 39
        }
      ]
    },
    {
      "cell_type": "code",
      "metadata": {
        "id": "W5n63YP4dO30"
      },
      "source": [
        "filtered_diagnoses = diagnoses_df[diagnoses_df['hadm_id'].isin(filtered_admissions['hadm_id'])]"
      ],
      "execution_count": 40,
      "outputs": []
    },
    {
      "cell_type": "code",
      "metadata": {
        "colab": {
          "base_uri": "https://localhost:8080/",
          "height": 0
        },
        "id": "03iUszNqeLGz",
        "outputId": "c65d58a0-e819-4eaa-95b9-812c8dca1fb9"
      },
      "source": [
        "filtered_diagnoses.shape"
      ],
      "execution_count": 41,
      "outputs": [
        {
          "output_type": "execute_result",
          "data": {
            "text/plain": [
              "(1783646, 5)"
            ]
          },
          "metadata": {
            "tags": []
          },
          "execution_count": 41
        }
      ]
    },
    {
      "cell_type": "code",
      "metadata": {
        "id": "snqqRhW1dO54"
      },
      "source": [
        "grouped_admissions = filtered_diagnoses.groupby(['subject_id','hadm_id'])['icd_code'].unique()"
      ],
      "execution_count": 49,
      "outputs": []
    },
    {
      "cell_type": "code",
      "metadata": {
        "colab": {
          "base_uri": "https://localhost:8080/",
          "height": 0
        },
        "id": "N_z0-io3dO8w",
        "outputId": "a70d988e-492c-459e-e91b-7ff101d8eb04"
      },
      "source": [
        "grouped_admissions.shape"
      ],
      "execution_count": 50,
      "outputs": [
        {
          "output_type": "execute_result",
          "data": {
            "text/plain": [
              "(164410,)"
            ]
          },
          "metadata": {
            "tags": []
          },
          "execution_count": 50
        }
      ]
    },
    {
      "cell_type": "code",
      "metadata": {
        "colab": {
          "base_uri": "https://localhost:8080/",
          "height": 0
        },
        "id": "DNLzjdpndO_m",
        "outputId": "82a74fdc-76ae-4de3-b93e-81571db0f37a"
      },
      "source": [
        "grouped_admissions.head(10)"
      ],
      "execution_count": 52,
      "outputs": [
        {
          "output_type": "execute_result",
          "data": {
            "text/plain": [
              "subject_id  hadm_id \n",
              "10000032    22595853    [V1582  , 29680  , 5723   , 5715   , 78959  , ...\n",
              "            22841357    [2875   , 78959  , 496    , 5715   , 07071  , ...\n",
              "            25742920    [07054  , V462   , 2761   , V08    , 2767   , ...\n",
              "            29079034    [2767   , 2761   , 3051   , V08    , 7994   , ...\n",
              "10000084    23052089    [R441   , Z8546  , G3183  , F0280  , R296   , ...\n",
              "            29888819    [R609   , F0280  , E785   , Z8546  , R4182  , ...\n",
              "10000117    22927623    [Z87891 , F419   , R1310  , K449   , K31819 , ...\n",
              "            27988844    [Y93K1  , E7800  , Z87442 , G43909 , S72012A, ...\n",
              "10000730    24554295                                            [V3000  ]\n",
              "            24810836                                            [7746   ]\n",
              "Name: icd_code, dtype: object"
            ]
          },
          "metadata": {
            "tags": []
          },
          "execution_count": 52
        }
      ]
    },
    {
      "cell_type": "code",
      "metadata": {
        "id": "_qnTAg1WfTbY"
      },
      "source": [
        ""
      ],
      "execution_count": null,
      "outputs": []
    }
  ]
}